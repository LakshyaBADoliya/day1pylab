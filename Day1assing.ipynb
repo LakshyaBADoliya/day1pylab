{
 "cells": [
  {
   "cell_type": "code",
   "execution_count": 2,
   "id": "b93e951a-8da3-4da6-9aeb-9be915be5235",
   "metadata": {},
   "outputs": [
    {
     "name": "stdout",
     "output_type": "stream",
     "text": [
      "heyy,Sir\n"
     ]
    }
   ],
   "source": [
    "var= \"Sir\"\n",
    "print(f\"heyy,{var}\")"
   ]
  },
  {
   "cell_type": "code",
   "execution_count": 3,
   "id": "50c2b675-182d-49a4-8965-22c51b8ce0f5",
   "metadata": {},
   "outputs": [
    {
     "name": "stdin",
     "output_type": "stream",
     "text": [
      "Enter number1:  9\n",
      "Enter  number2:  8\n"
     ]
    },
    {
     "name": "stdout",
     "output_type": "stream",
     "text": [
      "Sum is positive\n"
     ]
    }
   ],
   "source": [
    "n1=int(input(\"Enter number1: \"))\n",
    "n2=int(input(\"Enter  number2: \"))\n",
    "n3=n1+n2\n",
    "if(n3>0):\n",
    "    print(\"Sum is positive\")\n",
    "else:\n",
    "    print(\"Sum is Negative\")\n"
   ]
  },
  {
   "cell_type": "code",
   "execution_count": 6,
   "id": "a7683c1c-1ee7-43cc-b886-bc883ff60643",
   "metadata": {},
   "outputs": [
    {
     "name": "stdin",
     "output_type": "stream",
     "text": [
      "Enter the Number:  69\n"
     ]
    },
    {
     "name": "stdout",
     "output_type": "stream",
     "text": [
      "Correct Number\n"
     ]
    }
   ],
   "source": [
    "Num=69\n",
    "user=int(input(\"Enter the Number: \"))\n",
    "if(user==Num):\n",
    "    print(\"Correct Number\")\n",
    "else:\n",
    "    print(\"Enter number correctly\")"
   ]
  },
  {
   "cell_type": "code",
   "execution_count": 9,
   "id": "7ff61065-89aa-4319-b824-bbb5a5e19758",
   "metadata": {},
   "outputs": [
    {
     "data": {
      "text/plain": [
       "'LakshyaBAD'"
      ]
     },
     "execution_count": 9,
     "metadata": {},
     "output_type": "execute_result"
    }
   ],
   "source": [
    "firstname=\"Lakshya\"\n",
    "surname=\"BAD\"\n",
    "wholename=firstname+surname\n",
    "wholename\n"
   ]
  },
  {
   "cell_type": "code",
   "execution_count": 11,
   "id": "067287bd-b176-4810-a2bb-2575dd6ed80f",
   "metadata": {},
   "outputs": [
    {
     "name": "stdin",
     "output_type": "stream",
     "text": [
      "Enter a string aSSin\n"
     ]
    },
    {
     "name": "stdout",
     "output_type": "stream",
     "text": [
      "AssIN\n"
     ]
    }
   ],
   "source": [
    "user=input(\"Enter a string\")\n",
    "output=''\n",
    "for i in user:\n",
    "    if(i.islower()):\n",
    "        output+=i.upper()\n",
    "    else:\n",
    "        output+=i.lower()\n",
    "print(output)\n"
   ]
  },
  {
   "cell_type": "code",
   "execution_count": 13,
   "id": "20f2c370-5b9d-48cd-a6f1-19b04926c304",
   "metadata": {},
   "outputs": [
    {
     "name": "stdout",
     "output_type": "stream",
     "text": [
      "29 3024\n"
     ]
    }
   ],
   "source": [
    "list=[9,2,3,7,8]\n",
    "sum=0\n",
    "mul=1\n",
    "for i in list:\n",
    "    sum+=i\n",
    "for i in list:\n",
    "    mul*=i\n",
    "print(sum,end=\" \")\n",
    "print(mul)"
   ]
  },
  {
   "cell_type": "code",
   "execution_count": 14,
   "id": "502211f2-8ab2-4e11-aa25-fe17d74ceedd",
   "metadata": {},
   "outputs": [
    {
     "name": "stdin",
     "output_type": "stream",
     "text": [
      "Enter value to search:  a\n"
     ]
    },
    {
     "name": "stdout",
     "output_type": "stream",
     "text": [
      "True\n"
     ]
    }
   ],
   "source": [
    "x=input(\"Enter value to search: \")\n",
    "a=[1,2,\"x\",\"a\",3,4,\"i\"]\n",
    "result=False\n",
    "for i in a:\n",
    "    if(str(i)==x):\n",
    "        result=True\n",
    "        break\n",
    "print(result)"
   ]
  },
  {
   "cell_type": "code",
   "execution_count": 15,
   "id": "9f54db76-f3d5-4277-8d6e-d3283ca6d101",
   "metadata": {},
   "outputs": [
    {
     "name": "stdout",
     "output_type": "stream",
     "text": [
      "False\n"
     ]
    }
   ],
   "source": [
    "list1=[1,2,3,4]\n",
    "list2=[5,6,7]\n",
    "common=False\n",
    "for i in list1:\n",
    "    for j in list2:\n",
    "        if(i==j):\n",
    "            common=True\n",
    "print(common)"
   ]
  },
  {
   "cell_type": "code",
   "execution_count": 16,
   "id": "d14f8989-4ee5-45eb-80f0-3b5001b0167e",
   "metadata": {},
   "outputs": [
    {
     "name": "stdout",
     "output_type": "stream",
     "text": [
      "*\n",
      "**\n",
      "***\n"
     ]
    }
   ],
   "source": [
    "histogram=[1,2,3]\n",
    "for i in histogram:\n",
    "    print(\"*\"*i)\n"
   ]
  },
  {
   "cell_type": "code",
   "execution_count": 19,
   "id": "aee3c523-0c91-4efc-9b6d-388cafa86945",
   "metadata": {},
   "outputs": [
    {
     "name": "stdout",
     "output_type": "stream",
     "text": [
      "['crocodile', 'zebra', 'lion', 'tiger', 'cat']\n"
     ]
    }
   ],
   "source": [
    "List = [\"cat\",\"tiger\",\"lion\", \"zebra\" , \"crocodile\", \"snack\"]\n",
    "newlist=[]\n",
    "for i in range(4,-1,-1):\n",
    "    newlist.append(List[i])\n",
    "print(newlist)"
   ]
  },
  {
   "cell_type": "code",
   "execution_count": null,
   "id": "9ef940ef-8ea0-4afc-ad7e-6c732cdb5050",
   "metadata": {},
   "outputs": [],
   "source": []
  }
 ],
 "metadata": {
  "kernelspec": {
   "display_name": "Python 3 (ipykernel)",
   "language": "python",
   "name": "python3"
  },
  "language_info": {
   "codemirror_mode": {
    "name": "ipython",
    "version": 3
   },
   "file_extension": ".py",
   "mimetype": "text/x-python",
   "name": "python",
   "nbconvert_exporter": "python",
   "pygments_lexer": "ipython3",
   "version": "3.11.4"
  }
 },
 "nbformat": 4,
 "nbformat_minor": 5
}
